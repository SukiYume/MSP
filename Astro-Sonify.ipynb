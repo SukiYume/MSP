{
 "cells": [
  {
   "cell_type": "markdown",
   "id": "4be2d796",
   "metadata": {},
   "source": [
    "# Methods to Sonify a Pulse"
   ]
  },
  {
   "cell_type": "markdown",
   "id": "f9dc6a85",
   "metadata": {},
   "source": [
    "## Astronify"
   ]
  },
  {
   "cell_type": "code",
   "execution_count": 1,
   "id": "a46b3bc9",
   "metadata": {},
   "outputs": [],
   "source": [
    "import numpy as np\n",
    "from astropy.table import Table\n",
    "from astronify.series import SoniSeries\n",
    "\n",
    "down_rate  = 10\n",
    "\n",
    "data       = np.load('Data/Burst.npy')\n",
    "data       = np.mean(data, axis=1)\n",
    "data       = (data - data.min()) / (data.max() - data.min())\n",
    "data       = np.mean(data[:len(data) // down_rate * down_rate].reshape(-1, down_rate), axis=1)\n",
    "\n",
    "data_table = Table({\n",
    "    'time': np.arange(len(data)),\n",
    "    'flux': data\n",
    "})\n",
    "\n",
    "data_soni = SoniSeries(data_table)\n",
    "data_soni.note_spacing = 0.01\n",
    "data_soni.sonify()\n",
    "data_soni.write('Audio.wav')"
   ]
  },
  {
   "cell_type": "markdown",
   "id": "2fbe02d4",
   "metadata": {},
   "source": [
    "## Profile To Wave"
   ]
  },
  {
   "cell_type": "code",
   "execution_count": 2,
   "id": "bfe16bc3",
   "metadata": {},
   "outputs": [],
   "source": [
    "import numpy as np\n",
    "from scipy import interpolate\n",
    "import matplotlib.pyplot as plt\n",
    "\n",
    "wave_length = 10 # second\n",
    "sample_rate = 48000\n",
    "repeat_num  = 10\n",
    "\n",
    "data        = np.load('Data/Burst.npy')\n",
    "data        = np.mean(data, axis=1)\n",
    "data        = np.tile(data, repeat_num)\n",
    "\n",
    "time        = np.arange(len(data)) / (len(data) - 1) * wave_length\n",
    "f           = interpolate.interp1d(time, data, kind='linear')\n",
    "wave_time   = np.arange(0, wave_length, 1/sample_rate)\n",
    "wave_raw    = f(wave_time)\n",
    "# wave_raw    = ((wave_raw - np.min(wave_raw)) / (wave_raw.max() - wave_raw.min()) * 6e4 - 3e4).astype(np.int16)\n",
    "wave_raw    = ((wave_raw - np.min(wave_raw)) / (wave_raw.max() - wave_raw.min()) * 6e4).astype(np.int16)"
   ]
  },
  {
   "cell_type": "markdown",
   "id": "143bf172",
   "metadata": {},
   "source": [
    "### Convolution"
   ]
  },
  {
   "cell_type": "code",
   "execution_count": 4,
   "id": "71dfacd8",
   "metadata": {},
   "outputs": [],
   "source": [
    "import wave\n",
    "import numpy as np\n",
    "from scipy import stats\n",
    "import matplotlib.pyplot as plt\n",
    "from scipy import integrate, signal\n",
    "\n",
    "def read_wave(file):\n",
    "    with wave.open(file, 'rb') as f:\n",
    "        nchannels, sampwidth, framerate, nframes = f.getparams()[:4]\n",
    "        str_data                                 = f.readframes(nframes)\n",
    "    wave_data       = np.frombuffer(str_data, dtype=np.short)\n",
    "    wave_data.shape = -1, nchannels\n",
    "    return wave_data.T[0]\n",
    "\n",
    "# 读取音频文件\n",
    "# pulse      = read_wave('Audio.wav')\n",
    "pulse      = wave_raw\n",
    "sound      = read_wave('Instruments/vio.wav')\n",
    "\n",
    "# 归一化乐器声音\n",
    "sounds     = stats.binned_statistic(\n",
    "    x      = np.arange(0, len(sound)), \n",
    "    values = sound, \n",
    "    bins   = len(sound) * 44100 / 48000\n",
    ")[0]\n",
    "\n",
    "L          = integrate.simps(sounds)\n",
    "sound_norm = sounds / L\n",
    "\n",
    "# 卷积\n",
    "wave_raw   = (signal.convolve(pulse, sound_norm, mode='same') / 10).astype(np.int16)"
   ]
  },
  {
   "cell_type": "markdown",
   "id": "681c2c47",
   "metadata": {},
   "source": [
    "## Intensity To Loudness"
   ]
  },
  {
   "cell_type": "code",
   "execution_count": 6,
   "id": "1a6e8f80",
   "metadata": {
    "scrolled": true
   },
   "outputs": [],
   "source": [
    "import numpy as np\n",
    "from scipy.interpolate import interp1d\n",
    "\n",
    "def sin_fu(x, a, b):\n",
    "    return a * np.sin(1000 * x) + b\n",
    "\n",
    "sampling_rate = 48000\n",
    "wave_length   = 2\n",
    "int_number    = sampling_rate * wave_length\n",
    "\n",
    "b = np.load('Data/Profile.npy')\n",
    "b = np.log10((b - np.min(b)) / (b.max() - b.min()) + 1)\n",
    "a = np.linspace(0, 2*np.pi, len(b))\n",
    "\n",
    "c = interp1d(a, b)\n",
    "d = np.linspace(a.min(), a.max(), int_number)\n",
    "e = c(d)\n",
    "g = sin_fu(d, e, e)\n",
    "wave_raw = (g * 50000).astype(np.int16)"
   ]
  },
  {
   "cell_type": "code",
   "execution_count": 7,
   "id": "5b1769fd",
   "metadata": {},
   "outputs": [],
   "source": [
    "# import soundfile as sf\n",
    "# sf.write('Audio.wav', wave_raw, 48000, subtype='PCM_24')\n",
    "\n",
    "import wave\n",
    "with wave.open('Audio.wav', 'wb') as f:\n",
    "    params = (1, 2, 48000, 1, 'NONE', 'not compressed')\n",
    "    f.setparams(params)\n",
    "    f.writeframesraw(wave_raw)"
   ]
  },
  {
   "cell_type": "markdown",
   "id": "fd07a3da",
   "metadata": {},
   "source": [
    "## Mel Spectrum"
   ]
  },
  {
   "cell_type": "code",
   "execution_count": 8,
   "id": "05b21381",
   "metadata": {},
   "outputs": [],
   "source": [
    "import numpy as np\n",
    "import librosa, copy\n",
    "import soundfile as sf\n",
    "from scipy import signal\n",
    "\n",
    "def del_burst(data, exposure_cut=25):\n",
    "    h, w            = data.shape\n",
    "    data           /= np.mean(data, axis=0)\n",
    "    flatten_data    = np.sort(data.flatten())\n",
    "    vmin, vmax      = flatten_data[int(h*w/exposure_cut)], flatten_data[int(h*w/exposure_cut*(exposure_cut-1))]\n",
    "    data[data<vmin] = vmin\n",
    "    data[data>vmax] = vmax\n",
    "    data            = (data - data.min()) / (data.max() - data.min())\n",
    "    return data\n",
    "\n",
    "###### 消色散后 ######\n",
    "# data            = np.load('Data/Burst.npy')\n",
    "# data            = data.astype(np.float64)\n",
    "# data            = del_burst(data)\n",
    "# data            = data[1024: 1024+2048]\n",
    "# data            = np.mean(data.reshape(64, 32, 512, 8), axis=(1, 3))\n",
    "\n",
    "###### 消色散前 ######\n",
    "data            = np.load('Data/RawBurst.npy')\n",
    "data            = np.mean(data.reshape(128, 22, 512, 8), axis=(1, 3))"
   ]
  },
  {
   "cell_type": "code",
   "execution_count": 9,
   "id": "51bf3750",
   "metadata": {},
   "outputs": [],
   "source": [
    "def melspectrogram2wav(mel):\n",
    "    # transpose\n",
    "    mel    = mel.T\n",
    "    # de-noramlize\n",
    "    mel    = (np.clip(mel, 0, 1) * max_db) - max_db + ref_db\n",
    "    # to amplitude\n",
    "    mel    = np.power(10.0, mel * 0.05)\n",
    "    m      = _mel_to_linear_matrix(sr, n_fft, n_mels)\n",
    "    mag    = np.dot(m, mel)\n",
    "    # wav reconstruction\n",
    "    wav    = griffin_lim(mag)\n",
    "    # de-preemphasis\n",
    "    wav    = signal.lfilter([1], [1, -preemphasis], wav)\n",
    "    # trim\n",
    "    wav, _ = librosa.effects.trim(wav)\n",
    "    return wav.astype(np.float32)\n",
    "\n",
    "def spectrogram2wav(mag):\n",
    "    # transpose\n",
    "    mag    = mag.T\n",
    "    # de-noramlize\n",
    "    mag    = (np.clip(mag, 0, 1) * max_db) - max_db + ref_db\n",
    "    # to amplitude\n",
    "    mag    = np.power(10.0, mag * 0.05)\n",
    "    # wav reconstruction\n",
    "    wav    = griffin_lim(mag)\n",
    "    # de-preemphasis\n",
    "    wav    = signal.lfilter([1], [1, -preemphasis], wav)\n",
    "    # trim\n",
    "    wav, _ = librosa.effects.trim(wav)\n",
    "    return wav.astype(np.float32)\n",
    "\n",
    "def _mel_to_linear_matrix(sr, n_fft, n_mels):\n",
    "    m      = librosa.filters.mel(sr=sr, n_fft=n_fft, n_mels=n_mels)\n",
    "    m_t    = np.transpose(m)\n",
    "    p      = np.matmul(m, m_t)\n",
    "    d      = [1.0 / x if np.abs(x) > 1.0e-8 else x for x in np.sum(p, axis=0)]\n",
    "    return np.matmul(m_t, np.diag(d))\n",
    "\n",
    "def griffin_lim(spectrogram):\n",
    "    X_best     = copy.deepcopy(spectrogram)\n",
    "    for i in range(n_iter):\n",
    "        X_t    = invert_spectrogram(X_best)\n",
    "        est    = librosa.stft(X_t, n_fft=n_fft, hop_length=hop_length, win_length=win_length)\n",
    "        phase  = est / np.maximum(1e-8, np.abs(est))\n",
    "        X_best = spectrogram * phase\n",
    "    X_t        = invert_spectrogram(X_best)\n",
    "    y          = np.real(X_t)\n",
    "    return y\n",
    "\n",
    "def invert_spectrogram(spectrogram):\n",
    "    return librosa.istft(spectrogram, n_fft=n_fft, hop_length=hop_length, win_length=win_length, window='hann')"
   ]
  },
  {
   "cell_type": "code",
   "execution_count": 10,
   "id": "7acff268",
   "metadata": {},
   "outputs": [],
   "source": [
    "### Params\n",
    "sr           = 48000  # Sample rate.\n",
    "n_iter       = 32   # Number of inversion iterations\n",
    "preemphasis  = 0.97 # or None\n",
    "max_db       = 100\n",
    "ref_db       = 20\n",
    "top_db       = 15\n",
    "n_mels       = 512  # Number of Mel banks to generate\n",
    "n_fft        = 8190"
   ]
  },
  {
   "cell_type": "markdown",
   "id": "a4902b1f",
   "metadata": {},
   "source": [
    "### Mel To Wave"
   ]
  },
  {
   "cell_type": "code",
   "execution_count": 11,
   "id": "642465a1",
   "metadata": {},
   "outputs": [],
   "source": [
    "### Mel to Wav\n",
    "frame_length = 0.04   # seconds\n",
    "win_length   = int(sr * frame_length) # samples.\n",
    "hop_length   = win_length // 4        # samples.\n",
    "\n",
    "a            = melspectrogram2wav(data)\n",
    "sf.write('Audio.wav', a, sr, subtype='PCM_24')"
   ]
  },
  {
   "cell_type": "markdown",
   "id": "ef8db742",
   "metadata": {},
   "source": [
    "### Mag To Wave"
   ]
  },
  {
   "cell_type": "code",
   "execution_count": 14,
   "id": "07d6bae2",
   "metadata": {},
   "outputs": [],
   "source": [
    "### Mag to Wav\n",
    "hop_length   = 19\n",
    "win_length   = hop_length * 4\n",
    "\n",
    "data         = np.load('Data/RawBurst.npy')\n",
    "asd          = spectrogram2wav(data)\n",
    "sf.write('Audio.wav', asd, sr, subtype='PCM_24')"
   ]
  },
  {
   "cell_type": "code",
   "execution_count": null,
   "id": "b74d9add",
   "metadata": {},
   "outputs": [],
   "source": []
  }
 ],
 "metadata": {
  "kernelspec": {
   "display_name": "Python 3 (ipykernel)",
   "language": "python",
   "name": "python3"
  },
  "language_info": {
   "codemirror_mode": {
    "name": "ipython",
    "version": 3
   },
   "file_extension": ".py",
   "mimetype": "text/x-python",
   "name": "python",
   "nbconvert_exporter": "python",
   "pygments_lexer": "ipython3",
   "version": "3.8.13"
  }
 },
 "nbformat": 4,
 "nbformat_minor": 5
}
